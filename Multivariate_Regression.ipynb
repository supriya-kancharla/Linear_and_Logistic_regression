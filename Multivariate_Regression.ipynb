{
  "nbformat": 4,
  "nbformat_minor": 0,
  "metadata": {
    "colab": {
      "name": "E1_A2.ipynb",
      "provenance": [],
      "collapsed_sections": [],
      "toc_visible": true
    },
    "kernelspec": {
      "name": "python3",
      "display_name": "Python 3"
    },
    "language_info": {
      "name": "python"
    }
  },
  "cells": [
    {
      "cell_type": "code",
      "metadata": {
        "id": "dvmE0XFwdxfc"
      },
      "source": [
        "import pandas as pd\n",
        "import numpy as np\n",
        "%matplotlib inline\n",
        "import matplotlib.pyplot as plt"
      ],
      "execution_count": null,
      "outputs": []
    },
    {
      "cell_type": "code",
      "metadata": {
        "id": "zPble2t1eQHw"
      },
      "source": [
        "# reading data\n",
        "df = pd.read_csv('/content/GPUbenchmark.csv', header = None)\n",
        "# droping last column for X\n",
        "X = df.drop(columns=6)\n",
        "# Creating response y\n",
        "y = df.iloc[:, 6]\n",
        "mean_col = X.mean(axis=0)\n",
        "std_col = X.std(axis=0)"
      ],
      "execution_count": null,
      "outputs": []
    },
    {
      "cell_type": "markdown",
      "metadata": {
        "id": "0F6ijJYrUuCH"
      },
      "source": [
        "1. Start by normalizing X using Xn = (X 􀀀 \u0016)=\u001b."
      ]
    },
    {
      "cell_type": "code",
      "metadata": {
        "id": "rP841sNfaZMz"
      },
      "source": [
        "#normalizing the X matrix\n",
        "X_columns = list(X.columns)\n",
        "for i in X_columns:\n",
        "  X[i] = (X[i] - mean_col[i]) / std_col[i]"
      ],
      "execution_count": null,
      "outputs": []
    },
    {
      "cell_type": "markdown",
      "metadata": {
        "id": "SvcywewRU17r"
      },
      "source": [
        "2. Multivariate datasets are hard to visualize. However, to get a basic understanding it might\n",
        "be a good idea to produce a plot Xi vs y for each one of the features. Use subplot(2,3,i)\n",
        "to fit all six plots into a single figure. Make sure that each nomalized Xi is centralized\n",
        "around zero."
      ]
    },
    {
      "cell_type": "code",
      "metadata": {
        "colab": {
          "base_uri": "https://localhost:8080/",
          "height": 444
        },
        "id": "3q-z9vvrbfX9",
        "outputId": "968004f7-005d-43e5-f1d2-6fdfcd062ee2"
      },
      "source": [
        "fig, axs = plt.subplots(2, 3,figsize=(9,7))\n",
        "axs[0, 0].plot(X[0], y,'r.')\n",
        "axs[0, 0].set_title('X1 vs y')\n",
        "axs[0, 1].plot(X[1] , y, 'r.')\n",
        "axs[0, 1].set_title('X2 vs y')\n",
        "axs[0, 2].plot(X[2] , y, 'r.')\n",
        "axs[0, 2].set_title('X3 vs y')\n",
        "axs[1, 0].plot(X[3] , y, 'r.')\n",
        "axs[1, 0].set_title('X4 vs y')\n",
        "axs[1, 1].plot(X[4] , y, 'r.')\n",
        "axs[1, 1].set_title('X5 vs y')\n",
        "axs[1, 2].plot(X[5] , y, 'r.')\n",
        "axs[1, 2].set_title('X6 vs y')\n",
        "\n",
        "plt.show()"
      ],
      "execution_count": null,
      "outputs": [
        {
          "output_type": "display_data",
          "data": {
            "image/png": "[encoded data removed]",
            "text/plain": [
              "<Figure size 648x504 with 6 Axes>"
            ]
          },
          "metadata": {
            "tags": [],
            "needs_background": "light"
          }
        }
      ]
    },
    {
      "cell_type": "code",
      "metadata": {
        "id": "CmXyuwwfe_s3",
        "colab": {
          "base_uri": "https://localhost:8080/"
        },
        "outputId": "1534da80-fd3c-40f5-e27a-56d8a17a7fbb"
      },
      "source": [
        "# extended normalized matrix\n",
        "X_e = pd.concat([pd.Series(1, index=df.index, name='00'), X], axis=1)\n",
        "\n",
        "beta = np.dot(np.dot(np.linalg.inv(np.dot(X_e.transpose(),X_e)),X_e.transpose()),y)\n",
        "print(\"Beta vector : \")\n",
        "print(beta)"
      ],
      "execution_count": null,
      "outputs": [
        {
          "output_type": "stream",
          "text": [
            "Beta vector : \n",
            "[65.18888889 18.57923492 -5.50734017 13.42323997  4.31736755 10.33111663\n",
            "  1.29911163]\n"
          ],
          "name": "stdout"
        }
      ]
    },
    {
      "cell_type": "code",
      "metadata": {
        "colab": {
          "base_uri": "https://localhost:8080/"
        },
        "id": "I9HdnVzwiJbx",
        "outputId": "e0498150-28a5-4ffe-8be8-3e74a7936833"
      },
      "source": [
        "test = [2432, 1607, 1683, 8, 8, 256]\n",
        "normalize_test = (test-mean_col)/std_col\n",
        "print(\"Predicted benchmark result for a graphic card with feature values : [2432, 1607, 1683, 8, 8, 256] is \")\n",
        "print(np.dot(list([1])+list(normalize_test),beta))"
      ],
      "execution_count": null,
      "outputs": [
        {
          "output_type": "stream",
          "text": [
            "Predicted benchmark result for a graphic card with feature values : [2432, 1607, 1683, 8, 8, 256] is \n",
            "110.80403513783283\n"
          ],
          "name": "stdout"
        }
      ]
    },
    {
      "cell_type": "code",
      "metadata": {
        "id": "1xSal2Yifj3N",
        "colab": {
          "base_uri": "https://localhost:8080/"
        },
        "outputId": "3f9851fb-bbc9-44a9-db2c-8aa5415ac33f"
      },
      "source": [
        "def computeCost(X_e, beta, y):\n",
        "    j = np.dot(X_e,beta)-y\n",
        "    cost_func = np.dot(j.transpose(),j)/len(j)\n",
        "    return cost_func\n",
        "print(\"Total Cost: \", computeCost(X_e, beta, y))"
      ],
      "execution_count": null,
      "outputs": [
        {
          "output_type": "stream",
          "text": [
            "Total Cost:  12.396444360915686\n"
          ],
          "name": "stdout"
        }
      ]
    },
    {
      "cell_type": "code",
      "metadata": {
        "id": "0TBgH8cbfoLt"
      },
      "source": [
        "def gradient_descent(X, y, N = 10000, lr = 0.001, epsilon = 0.00001):\n",
        "    m, n = X.shape\n",
        "    beta = np.zeros(n)\n",
        "    cost_ = []\n",
        "    for iter in range(N):\n",
        "        beta1 = beta -lr*(np.dot(X.transpose(),np.dot(X,beta)-y))\n",
        "        cost_.append(computeCost(X, beta1, y))\n",
        "        if(np.linalg.norm(beta1-beta) < epsilon):\n",
        "            return beta1, cost_\n",
        "        beta = beta1\n",
        "    \n",
        "    return beta, cost_"
      ],
      "execution_count": null,
      "outputs": []
    },
    {
      "cell_type": "code",
      "metadata": {
        "colab": {
          "base_uri": "https://localhost:8080/"
        },
        "id": "fuDLpKhoZQCi",
        "outputId": "e444aad2-c57b-4839-99d1-751b2c212867"
      },
      "source": [
        "N, lr = 10000, 0.001\n",
        "grad_descent_beta, cost_hist = gradient_descent(X_e,y)\n",
        "print(\"Hyperparameters :\\n -- Number of iterations, N : {}\\n -- Leraning Rate, lr : {}\".format(N,lr))\n",
        "print(\"Beta after gradient descent : \", grad_descent_beta)"
      ],
      "execution_count": null,
      "outputs": [
        {
          "output_type": "stream",
          "text": [
            "Hyperparameters :\n",
            " -- Number of iterations, N : 10000\n",
            " -- Leraning Rate, lr : 0.001\n",
            "Beta after gradient descent :  [65.18888889 18.3120956  -2.57610284 10.59741387  4.04838359 10.47561515\n",
            "  1.50365165]\n"
          ],
          "name": "stdout"
        }
      ]
    },
    {
      "cell_type": "code",
      "metadata": {
        "colab": {
          "base_uri": "https://localhost:8080/",
          "height": 346
        },
        "id": "dwiiONypa5fv",
        "outputId": "ec3e2bf3-f52a-435f-a2fd-4077b59f1ea2"
      },
      "source": [
        "print(\"Predicted benchmark result for a graphic card with feature values : [2432, 1607, 1683, 8, 8, 256] is \")\n",
        "print(np.dot(list([1])+list(normalize_test),grad_descent_beta))\n",
        "print(\"Total Cost: \", computeCost(X_e, grad_descent_beta, y))\n",
        "plt.plot(cost_hist)\n",
        "plt.ylim([0,50])\n",
        "plt.title(\"Plot of Cost Func vs Iterations\")\n",
        "plt.xlabel(\"Iterations\")\n",
        "plt.ylabel(\"Cost function\")\n",
        "plt.show()"
      ],
      "execution_count": null,
      "outputs": [
        {
          "output_type": "stream",
          "text": [
            "Predicted benchmark result for a graphic card with feature values : [2432, 1607, 1683, 8, 8, 256] is \n",
            "111.76301273074311\n",
            "Total Cost:  12.50959524895206\n"
          ],
          "name": "stdout"
        },
        {
          "output_type": "display_data",
          "data": {
            "image/png": "[encoded data removed]",
            "text/plain": [
              "<Figure size 432x288 with 1 Axes>"
            ]
          },
          "metadata": {
            "tags": [],
            "needs_background": "light"
          }
        }
      ]
    }
  ]
}