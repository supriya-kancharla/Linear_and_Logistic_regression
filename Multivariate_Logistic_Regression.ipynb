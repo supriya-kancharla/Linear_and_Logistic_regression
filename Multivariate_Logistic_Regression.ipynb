{
  "nbformat": 4,
  "nbformat_minor": 0,
  "metadata": {
    "colab": {
      "name": "E3_A2.ipynb",
      "provenance": [],
      "collapsed_sections": [],
      "toc_visible": true
    },
    "kernelspec": {
      "name": "python3",
      "display_name": "Python 3"
    },
    "language_info": {
      "name": "python"
    }
  },
  "cells": [
    {
      "cell_type": "code",
      "metadata": {
        "id": "IqzqIsyQOwX4"
      },
      "source": [
        "import numpy as np\n",
        "import matplotlib.pyplot as plt\n",
        "import pandas as pd\n",
        "from sklearn.preprocessing import StandardScaler\n",
        "from sklearn.model_selection import train_test_split"
      ],
      "execution_count": null,
      "outputs": []
    },
    {
      "cell_type": "markdown",
      "metadata": {
        "id": "hMURZNS7QVcF"
      },
      "source": [
        "1. Read data and shuffle the rows in the raw data matrix:"
      ]
    },
    {
      "cell_type": "markdown",
      "metadata": {
        "id": "9QWR6el3QsA7"
      },
      "source": [
        "2. Replace the responses 2 and 4 with 0 and 1 and divide the dataset into a training set and\n",
        "a test set. How many observations did you allocated for testing, and why this number?"
      ]
    },
    {
      "cell_type": "code",
      "metadata": {
        "id": "KWskBthDlAVc"
      },
      "source": [
        "data = pd.read_csv('/content/breast_cancer.csv', header=None)\n",
        "data1 = data.sample(frac=1).reset_index(drop=True)\n",
        "X = data1.iloc[:,0:9]\n",
        "y = data1.iloc[:,9]\n",
        "\n",
        "y = y.replace(2, 0)\n",
        "y = y.replace(4, 1)"
      ],
      "execution_count": null,
      "outputs": []
    },
    {
      "cell_type": "code",
      "metadata": {
        "id": "8PPsraKTvaGf",
        "colab": {
          "base_uri": "https://localhost:8080/"
        },
        "outputId": "ac4a1711-8605-41ad-a9c8-3c59438c96d3"
      },
      "source": [
        "X_train, X_test, y_train, y_test = train_test_split(X, y, test_size=0.1, random_state=42)\n",
        "print(\"Number of observations for training data : \",len(X_train))\n",
        "print(\"Number of observations for test data : \",len(X_test))"
      ],
      "execution_count": null,
      "outputs": [
        {
          "output_type": "stream",
          "text": [
            "Number of observations for training data :  614\n",
            "Number of observations for test data :  69\n"
          ],
          "name": "stdout"
        }
      ]
    },
    {
      "cell_type": "markdown",
      "metadata": {
        "id": "1tl1qEMfRBoD"
      },
      "source": [
        "3. Normalize the training data and train a linear logistic regression model using gradient\n",
        "descent. Print the hyperparameters \u000b and Niter and plot the cost function J(\f) as a\n",
        "function over iterations."
      ]
    },
    {
      "cell_type": "code",
      "metadata": {
        "id": "kVi_9rzVP6F4"
      },
      "source": [
        "scaler = StandardScaler()\n",
        "X_train_normalized = pd.DataFrame(scaler.fit_transform(X_train))\n",
        "X_train_normalized_extended = pd.concat([pd.Series(1, index=X_train_normalized.index, name='00'), X_train_normalized], axis=1)\n",
        "\n",
        "X_test_normalized = pd.DataFrame(scaler.transform(X_test))\n",
        "X_test_normalized_extended = pd.concat([pd.Series(1, index=X_test_normalized.index, name='00'), X_test_normalized], axis=1)"
      ],
      "execution_count": null,
      "outputs": []
    },
    {
      "cell_type": "code",
      "metadata": {
        "id": "40VHitOC-kw1"
      },
      "source": [
        "def sigmoid(z):\n",
        "  \n",
        "    return 1/ (1 + np.exp(-z))\n",
        "\n",
        "def costFunction(theta, X, y):\n",
        "\n",
        "    m=len(y)    \n",
        "    predictions = sigmoid(np.dot(X,theta))\n",
        "    predictions = np.concatenate(predictions)\n",
        "    error = (-y * np.log(predictions)) - ((1-y)*np.log(1-predictions))\n",
        "    cost = 1/m * sum(error)    \n",
        "    grad = 1/m * np.dot(X.transpose(),(predictions - y))\n",
        "    \n",
        "    return cost , grad\n",
        "\n",
        "def gradientDescent(X,y,theta,alpha,num_iters):\n",
        "\n",
        "    m=len(y)\n",
        "    J_history =[]\n",
        "    \n",
        "    for i in range(num_iters):\n",
        "\n",
        "        cost, grad = costFunction(theta,X,y)\n",
        "        theta1 = np.concatenate(theta) - (alpha * grad).T\n",
        "        theta = np.array(theta1).reshape((n,1))\n",
        "        J_history.append(cost)\n",
        "    \n",
        "    return theta , J_history\n",
        "\n",
        "def classifierPredict(theta,X,y):\n",
        "    predictions = X.dot(theta)       \n",
        "    pred = predictions>0\n",
        "    pred = pred.astype(int)\n",
        "    count_ = sum(np.concatenate(np.array(pred)) == np.array(y))\n",
        "    accuracy = (count_ / len(X)) * 100\n",
        "    error_count = len(X) - count_\n",
        "    return accuracy, error_count"
      ],
      "execution_count": null,
      "outputs": []
    },
    {
      "cell_type": "code",
      "metadata": {
        "colab": {
          "base_uri": "https://localhost:8080/",
          "height": 349
        },
        "id": "h1JUR-_R_AMw",
        "outputId": "6cad47ed-2456-4dff-ace9-37a35cfd8036"
      },
      "source": [
        "m , n = X_train_normalized_extended.shape[0], X_train_normalized_extended.shape[1]\n",
        "initial_theta = np.zeros((n,1))\n",
        "epochs = 10000\n",
        "lr = 0.001\n",
        "theta, cost_hist= gradientDescent(X_train_normalized_extended,y_train,initial_theta,lr,epochs)\n",
        "print(\"Hyperparameters :\\n-Alpha(learning rate) : {}\\n-Niter(number of iterations) : {}\".format(lr,epochs))\n",
        "print(\"Theta : \",np.concatenate(theta))\n",
        "plt.figure()\n",
        "plt.plot(range(0, len(cost_hist)), cost_hist,'b.')\n",
        "plt.show()"
      ],
      "execution_count": null,
      "outputs": [
        {
          "output_type": "stream",
          "text": [
            "Hyperparameters :\n",
            "-Alpha(learning rate) : 0.001\n",
            "-Niter(number of iterations) : 10000\n",
            "Theta :  [-0.45048171  0.56442365  0.56004388  0.58235531  0.50035033  0.46705731\n",
            "  0.68486017  0.55318671  0.50650671  0.30236871]\n"
          ],
          "name": "stdout"
        },
        {
          "output_type": "display_data",
          "data": {
            "image/png": "[encoded data removed]",
            "text/plain": [
              "<Figure size 432x288 with 1 Axes>"
            ]
          },
          "metadata": {
            "tags": [],
            "needs_background": "light"
          }
        }
      ]
    },
    {
      "cell_type": "markdown",
      "metadata": {
        "id": "4UgphgTxRRQU"
      },
      "source": [
        "4. What is the training error (number of non-correct classifications in the training data) and\n",
        "the training accuracy (percentage of correct classifications) for your model?"
      ]
    },
    {
      "cell_type": "markdown",
      "metadata": {
        "id": "PkLoDyaqRfMC"
      },
      "source": [
        "5. What is the number of test error and the test accuracy for your model?"
      ]
    },
    {
      "cell_type": "code",
      "metadata": {
        "colab": {
          "base_uri": "https://localhost:8080/"
        },
        "id": "4YiqON7fFugr",
        "outputId": "4c47e4db-3150-4e37-ee7e-3c791384c23a"
      },
      "source": [
        "tr_acc, tr_err =classifierPredict(theta, X_train_normalized_extended, y_train)\n",
        "print(\"Train Accuracy : \", tr_acc)\n",
        "print(\"Train error : \", tr_err)\n",
        "\n",
        "print(\"-------------------\")\n",
        "\n",
        "te_acc, te_err =classifierPredict(theta, X_test_normalized_extended, y_test)\n",
        "print(\"Test Accuracy : \", te_acc)\n",
        "print(\"Test error : \", te_err)"
      ],
      "execution_count": null,
      "outputs": [
        {
          "output_type": "stream",
          "text": [
            "Train Accuracy :  97.06840390879479\n",
            "Train error :  18\n",
            "-------------------\n",
            "Test Accuracy :  98.55072463768117\n",
            "Test error :  1\n"
          ],
          "name": "stdout"
        }
      ]
    },
    {
      "cell_type": "markdown",
      "metadata": {
        "id": "ssX1cQ28Rr8C"
      },
      "source": [
        "6. Repeated runs will (due to the shuffling) give different results. Are they qualitatively\n",
        "the same? Do they depend on how many observations you put aside for testing? Is the\n",
        "difference between training and testing expected?"
      ]
    },
    {
      "cell_type": "code",
      "metadata": {
        "id": "9JHstp3HNCOg",
        "colab": {
          "base_uri": "https://localhost:8080/"
        },
        "outputId": "e91e8f57-95e8-4a77-a871-9c160a4e191f"
      },
      "source": [
        "train_errors = []\n",
        "test_errors = []\n",
        "\n",
        "train_acc = []\n",
        "test_acc = []\n",
        "for k in range(10):\n",
        "    data1 = data.sample(frac=1).reset_index(drop=True)\n",
        "    X = data1.iloc[:,0:9]\n",
        "    y = data1.iloc[:,9]\n",
        "\n",
        "    y = y.replace(2, 0)\n",
        "    y = y.replace(4, 1)\n",
        "\n",
        "    X_train, X_test, y_train, y_test = train_test_split(X, y, test_size=0.1)\n",
        "    #print(\"Number of observations for training data : \",len(X_train))\n",
        "    #print(\"Number of observations for test data : \",len(X_test))\n",
        "\n",
        "    scaler = StandardScaler()\n",
        "    X_train_normalized = pd.DataFrame(scaler.fit_transform(X_train))\n",
        "    X_train_normalized_extended = pd.concat([pd.Series(1, index=X_train_normalized.index, name='00'), X_train_normalized], axis=1)\n",
        "\n",
        "    X_test_normalized = pd.DataFrame(scaler.transform(X_test))\n",
        "    X_test_normalized_extended = pd.concat([pd.Series(1, index=X_test_normalized.index, name='00'), X_test_normalized], axis=1)\n",
        "\n",
        "    m , n = X_train_normalized_extended.shape[0], X_train_normalized_extended.shape[1]\n",
        "    initial_theta = np.zeros((n,1))\n",
        "    epochs = 10000\n",
        "    lr = 0.001\n",
        "    theta, cost_hist= gradientDescent(X_train_normalized_extended,y_train,initial_theta,lr,epochs)\n",
        "\n",
        "\n",
        "    tr_acc, tr_err =classifierPredict(theta, X_train_normalized_extended, y_train)\n",
        "    train_acc.append(tr_acc)\n",
        "    train_errors.append(tr_err)\n",
        "    # print(\"Train Accuracy : \", tr_acc)\n",
        "    # print(\"Train error : \", tr_err)\n",
        "\n",
        "    # print()\n",
        "\n",
        "    te_acc, te_err =classifierPredict(theta, X_test_normalized_extended, y_test)\n",
        "    # print(\"Test Accuracy : \", te_acc)\n",
        "    # print(\"Test error : \", te_err)\n",
        "    test_acc.append(te_acc)\n",
        "    test_errors.append(te_err)\n",
        "\n",
        "    print(\"*****************\")\n"
      ],
      "execution_count": null,
      "outputs": [
        {
          "output_type": "stream",
          "text": [
            "*****************\n",
            "*****************\n",
            "*****************\n",
            "*****************\n",
            "*****************\n",
            "*****************\n",
            "*****************\n",
            "*****************\n",
            "*****************\n",
            "*****************\n"
          ],
          "name": "stdout"
        }
      ]
    },
    {
      "cell_type": "code",
      "metadata": {
        "colab": {
          "base_uri": "https://localhost:8080/"
        },
        "id": "-jMj_lGYLx5C",
        "outputId": "0daf0ea7-bc81-4498-f288-9d5676e41b59"
      },
      "source": [
        "print(\"Mean train accuracy : \", np.mean(train_acc))\n",
        "print(\"Mean test accuracy : \", np.mean(test_acc))\n",
        "print(\"Standard Deviation in train accuracy : \", np.std(train_acc))\n",
        "print(\"Standard Deviation in test accuracy : \", np.std(test_acc))\n",
        "\n",
        "print()\n",
        "print(\"Mean train errors : \", np.mean(train_errors))\n",
        "print(\"Mean test errors : \", np.mean(test_errors))\n",
        "print(\"Standard Deviation in train errors : \", np.std(train_errors))\n",
        "print(\"Standard Deviation in test errors : \", np.std(test_errors))\n"
      ],
      "execution_count": null,
      "outputs": [
        {
          "output_type": "stream",
          "text": [
            "Mean train accuracy :  97.19869706840392\n",
            "Mean test accuracy :  97.10144927536233\n",
            "Standard Deviation in train accuracy :  0.17541253443434826\n",
            "Standard Deviation in test accuracy :  1.714805734231774\n",
            "\n",
            "Mean train errors :  17.2\n",
            "Mean test errors :  2.0\n",
            "Standard Deviation in train errors :  1.0770329614269007\n",
            "Standard Deviation in test errors :  1.1832159566199232\n"
          ],
          "name": "stdout"
        }
      ]
    },
    {
      "cell_type": "markdown",
      "metadata": {
        "id": "_FS9MJPuOqc2"
      },
      "source": [
        "Due to shuffling, there might occurs different samples in train and test sets each time we run. Thus we have simulated the training and testing metrics for 10 iterations and the mean values are as reported above. The values are not exactly same for every iteration, but looking at the standard deviation, we could report a reasonable train and test accuracies for every iteration."
      ]
    },
    {
      "cell_type": "code",
      "metadata": {
        "colab": {
          "base_uri": "https://localhost:8080/"
        },
        "id": "t9WFIDEnOY0c",
        "outputId": "8593bace-0753-4d44-b3a7-c04c969330f5"
      },
      "source": [
        "train_errors = []\n",
        "test_errors = []\n",
        "\n",
        "train_acc = []\n",
        "test_acc = []\n",
        "for k in list([0.1,0.2,0.25,0.3,0.4,0.45,0.5,0.55,0.6,0.7]):\n",
        "    data1 = data.sample(frac=1).reset_index(drop=True)\n",
        "    X = data1.iloc[:,0:9]\n",
        "    y = data1.iloc[:,9]\n",
        "\n",
        "    y = y.replace(2, 0)\n",
        "    y = y.replace(4, 1)\n",
        "\n",
        "    X_train, X_test, y_train, y_test = train_test_split(X, y, test_size=k)\n",
        "    print(\"Number of observations for training data : \",len(X_train))\n",
        "    print(\"Number of observations for test data : \",len(X_test))\n",
        "\n",
        "    scaler = StandardScaler()\n",
        "    X_train_normalized = pd.DataFrame(scaler.fit_transform(X_train))\n",
        "    X_train_normalized_extended = pd.concat([pd.Series(1, index=X_train_normalized.index, name='00'), X_train_normalized], axis=1)\n",
        "\n",
        "    X_test_normalized = pd.DataFrame(scaler.transform(X_test))\n",
        "    X_test_normalized_extended = pd.concat([pd.Series(1, index=X_test_normalized.index, name='00'), X_test_normalized], axis=1)\n",
        "\n",
        "    m , n = X_train_normalized_extended.shape[0], X_train_normalized_extended.shape[1]\n",
        "    initial_theta = np.zeros((n,1))\n",
        "    epochs = 10000\n",
        "    lr = 0.001\n",
        "    theta, cost_hist= gradientDescent(X_train_normalized_extended,y_train,initial_theta,lr,epochs)\n",
        "\n",
        "\n",
        "    tr_acc, tr_err =classifierPredict(theta, X_train_normalized_extended, y_train)\n",
        "    train_acc.append(tr_acc)\n",
        "    train_errors.append(tr_err)\n",
        "    print(\"Train Accuracy : \", tr_acc)\n",
        "    print(\"Train error : \", tr_err)\n",
        "\n",
        "    print()\n",
        "\n",
        "    te_acc, te_err =classifierPredict(theta, X_test_normalized_extended, y_test)\n",
        "    print(\"Test Accuracy : \", te_acc)\n",
        "    print(\"Test error : \", te_err)\n",
        "    test_acc.append(te_acc)\n",
        "    test_errors.append(te_err)\n",
        "\n",
        "    print(\"*****************\")\n"
      ],
      "execution_count": null,
      "outputs": [
        {
          "output_type": "stream",
          "text": [
            "Number of observations for training data :  614\n",
            "Number of observations for test data :  69\n",
            "Train Accuracy :  97.06840390879479\n",
            "Train error :  18\n",
            "\n",
            "Test Accuracy :  98.55072463768117\n",
            "Test error :  1\n",
            "*****************\n",
            "Number of observations for training data :  546\n",
            "Number of observations for test data :  137\n",
            "Train Accuracy :  96.88644688644689\n",
            "Train error :  17\n",
            "\n",
            "Test Accuracy :  98.54014598540147\n",
            "Test error :  2\n",
            "*****************\n",
            "Number of observations for training data :  512\n",
            "Number of observations for test data :  171\n",
            "Train Accuracy :  97.265625\n",
            "Train error :  14\n",
            "\n",
            "Test Accuracy :  97.07602339181285\n",
            "Test error :  5\n",
            "*****************\n",
            "Number of observations for training data :  478\n",
            "Number of observations for test data :  205\n",
            "Train Accuracy :  97.48953974895397\n",
            "Train error :  12\n",
            "\n",
            "Test Accuracy :  96.58536585365853\n",
            "Test error :  7\n",
            "*****************\n",
            "Number of observations for training data :  409\n",
            "Number of observations for test data :  274\n",
            "Train Accuracy :  97.79951100244499\n",
            "Train error :  9\n",
            "\n",
            "Test Accuracy :  96.35036496350365\n",
            "Test error :  10\n",
            "*****************\n",
            "Number of observations for training data :  375\n",
            "Number of observations for test data :  308\n",
            "Train Accuracy :  96.8\n",
            "Train error :  12\n",
            "\n",
            "Test Accuracy :  97.40259740259741\n",
            "Test error :  8\n",
            "*****************\n",
            "Number of observations for training data :  341\n",
            "Number of observations for test data :  342\n",
            "Train Accuracy :  97.0674486803519\n",
            "Train error :  10\n",
            "\n",
            "Test Accuracy :  97.36842105263158\n",
            "Test error :  9\n",
            "*****************\n",
            "Number of observations for training data :  307\n",
            "Number of observations for test data :  376\n",
            "Train Accuracy :  98.69706840390879\n",
            "Train error :  4\n",
            "\n",
            "Test Accuracy :  95.47872340425532\n",
            "Test error :  17\n",
            "*****************\n",
            "Number of observations for training data :  273\n",
            "Number of observations for test data :  410\n",
            "Train Accuracy :  97.06959706959707\n",
            "Train error :  8\n",
            "\n",
            "Test Accuracy :  97.3170731707317\n",
            "Test error :  11\n",
            "*****************\n",
            "Number of observations for training data :  204\n",
            "Number of observations for test data :  479\n",
            "Train Accuracy :  97.54901960784314\n",
            "Train error :  5\n",
            "\n",
            "Test Accuracy :  96.86847599164928\n",
            "Test error :  15\n",
            "*****************\n"
          ],
          "name": "stdout"
        }
      ]
    },
    {
      "cell_type": "code",
      "metadata": {
        "colab": {
          "base_uri": "https://localhost:8080/"
        },
        "id": "Gicr4stSRhEY",
        "outputId": "566489d9-1c4e-4fc5-d94d-2fc94473f84e"
      },
      "source": [
        "print(\"Mean train accuracy : \", np.mean(train_acc))\n",
        "print(\"Mean test accuracy : \", np.mean(test_acc))\n",
        "print(\"Standard Deviation in train accuracy : \", np.std(train_acc))\n",
        "print(\"Standard Deviation in test accuracy : \", np.std(test_acc))\n",
        "\n",
        "print()\n",
        "print(\"Mean train errors : \", np.mean(train_errors))\n",
        "print(\"Mean test errors : \", np.mean(test_errors))\n",
        "print(\"Standard Deviation in train errors : \", np.std(train_errors))\n",
        "print(\"Standard Deviation in test errors : \", np.std(test_errors))\n"
      ],
      "execution_count": null,
      "outputs": [
        {
          "output_type": "stream",
          "text": [
            "Mean train accuracy :  97.41666742495886\n",
            "Mean test accuracy :  96.39460636519082\n",
            "Standard Deviation in train accuracy :  0.45069120217806946\n",
            "Standard Deviation in test accuracy :  1.027546579082154\n",
            "\n",
            "Mean train errors :  12.142857142857142\n",
            "Mean test errors :  7.428571428571429\n",
            "Standard Deviation in train errors :  3.0904725218262765\n",
            "Standard Deviation in test errors :  3.619674131234265\n"
          ],
          "name": "stdout"
        }
      ]
    },
    {
      "cell_type": "markdown",
      "metadata": {
        "id": "ZIvsME8OTfJd"
      },
      "source": [
        "No, the accuracy does not depend on how many observations you put aside for testing. This has been analysed by running the code for various values of the proportion for test set. \n",
        "\n",
        "The difference between training and testing results are not as expected. Usually we expect the test accuracy to be a bit lower than the training accuracy. But in case, they are very close and the reason for this might be the inbalanced dataset where, there are more samples with label 0 are greater than that of label 1.\n"
      ]
    },
    {
      "cell_type": "code",
      "metadata": {
        "id": "V3geODrAR7qS"
      },
      "source": [
        ""
      ],
      "execution_count": null,
      "outputs": []
    }
  ]
}