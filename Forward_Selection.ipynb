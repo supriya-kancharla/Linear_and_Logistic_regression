{
  "nbformat": 4,
  "nbformat_minor": 0,
  "metadata": {
    "colab": {
      "name": "E6_A2.ipynb",
      "provenance": [],
      "collapsed_sections": []
    },
    "kernelspec": {
      "name": "python3",
      "display_name": "Python 3"
    },
    "language_info": {
      "name": "python"
    }
  },
  "cells": [
    {
      "cell_type": "code",
      "metadata": {
        "id": "Yzi4l5WPaChr"
      },
      "source": [
        "import pandas as pd\n",
        "import numpy as np\n",
        "from sklearn.linear_model import LinearRegression\n",
        "from sklearn.model_selection import cross_val_score\n",
        "from sklearn.metrics import mean_squared_error"
      ],
      "execution_count": null,
      "outputs": []
    },
    {
      "cell_type": "markdown",
      "metadata": {
        "id": "9fBawc4AjV28"
      },
      "source": [
        "1. Implement the forward selection algorithm as discussed in Lecture 6 (see lecture notes for\n",
        "details). In the loop use the training MSE to find the best model in each iteration. The\n",
        "algorithm should produce p + 1 models M0; : : : ;Mp, where Mi is the best model using\n",
        "i features. In terms of output, an alternative could be to let the algorithm produce a\n",
        "p-dimensional vector where its first entry is the feature in M1, its second entry is the new\n",
        "feature in M2 etc."
      ]
    },
    {
      "cell_type": "code",
      "metadata": {
        "id": "EFo_-pejbf5W"
      },
      "source": [
        "# reading data\n",
        "df = pd.read_csv('/content/GPUbenchmark.csv', header = None)\n",
        "# droping last column for X\n",
        "X = df.drop(columns=6)\n",
        "# Creating response y\n",
        "y = df.iloc[:, 6]"
      ],
      "execution_count": null,
      "outputs": []
    },
    {
      "cell_type": "code",
      "metadata": {
        "colab": {
          "base_uri": "https://localhost:8080/"
        },
        "id": "Xr10mBK6Vof5",
        "outputId": "01971514-926d-4618-de4f-bd910ce7ae77"
      },
      "source": [
        "m, n = X.shape\n",
        "feature_list = []\n",
        "for k in range(n):\n",
        "    remaining_cols = list(filter(lambda a: a not in feature_list, X.columns))\n",
        "    #print(remaining_cols)\n",
        "    score = 999999\n",
        "    for i in remaining_cols:\n",
        "        dummy = pd.concat([X[feature_list],X[i]], axis = 1)\n",
        "        reg = LinearRegression()\n",
        "        reg.fit(dummy, y)\n",
        "        pred = reg.predict(dummy)\n",
        "        mse = mean_squared_error(y,pred)\n",
        "        #print(mse)\n",
        "        if(score > mse):\n",
        "            score = mse\n",
        "            feat = i\n",
        "    feature_list.append(feat)\n",
        "    print(feature_list)\n",
        "print()\n",
        "print(\"Best Feature : \", feature_list[0])"
      ],
      "execution_count": null,
      "outputs": [
        {
          "output_type": "stream",
          "text": [
            "[4]\n",
            "[4, 5]\n",
            "[4, 5, 2]\n",
            "[4, 5, 2, 0]\n",
            "[4, 5, 2, 0, 3]\n",
            "[4, 5, 2, 0, 3, 1]\n",
            "\n",
            "Best Feature :  4\n"
          ],
          "name": "stdout"
        }
      ]
    },
    {
      "cell_type": "markdown",
      "metadata": {
        "id": "CC0cVALzjiQ8"
      },
      "source": [
        "2. Apply your forward selection on the GPUbenchmark.csv. Use 3-fold cross-validation to find\n",
        "the best model among all Mi, i = 1; : : : ; 6. Which is the best model? Which is the most\n",
        "important feature, i.e. selected first? What is the correlation between the first and last\n",
        "selected feature?"
      ]
    },
    {
      "cell_type": "code",
      "metadata": {
        "colab": {
          "base_uri": "https://localhost:8080/"
        },
        "id": "2A2pYd-bYpLM",
        "outputId": "b8e0d5d1-bba5-412a-8837-6bd51abecc97"
      },
      "source": [
        "cross_val_scores = []\n",
        "for i in range(n):\n",
        "    reg = LinearRegression()\n",
        "    features = feature_list[:i+1]\n",
        "    cross_val_scores.append(np.mean(cross_val_score(reg, X[features], y, scoring='neg_mean_squared_error', cv=3)))\n",
        "    print(\"Features : \", features)\n",
        "    print(\"CV score : \", -1*cross_val_scores[i])  \n",
        "    print()"
      ],
      "execution_count": null,
      "outputs": [
        {
          "output_type": "stream",
          "text": [
            "Features :  [4]\n",
            "CV score :  347.0919036626505\n",
            "\n",
            "Features :  [4, 5]\n",
            "CV score :  124.6521201471884\n",
            "\n",
            "Features :  [4, 5, 2]\n",
            "CV score :  100.39402610664312\n",
            "\n",
            "Features :  [4, 5, 2, 0]\n",
            "CV score :  46.93936905804129\n",
            "\n",
            "Features :  [4, 5, 2, 0, 3]\n",
            "CV score :  34.19240753367141\n",
            "\n",
            "Features :  [4, 5, 2, 0, 3, 1]\n",
            "CV score :  42.68779923883633\n",
            "\n"
          ],
          "name": "stdout"
        }
      ]
    },
    {
      "cell_type": "markdown",
      "metadata": {
        "id": "_IinhXhFhOYd"
      },
      "source": [
        "Best model is the one with lowest MSE. We have got the best model with features [4, 5, 2, 0, 3] i.e., \n",
        "\n",
        "[MemoryConfig, MemoryBandwidth, BoostClock, Cudacores, MemorySpeed]"
      ]
    },
    {
      "cell_type": "code",
      "metadata": {
        "colab": {
          "base_uri": "https://localhost:8080/"
        },
        "id": "aZYmOYidgiRA",
        "outputId": "af9e8747-d71d-465b-a68c-7dcc36d89df7"
      },
      "source": [
        "print(\"Correlation between first best and last best feature : \")\n",
        "print(np.corrcoef(X[feature_list[0]], X[feature_list[-1]]))"
      ],
      "execution_count": null,
      "outputs": [
        {
          "output_type": "stream",
          "text": [
            "Correlation between first best and last best feature : \n",
            "[[1.         0.64806285]\n",
            " [0.64806285 1.        ]]\n"
          ],
          "name": "stdout"
        }
      ]
    }
  ]
}